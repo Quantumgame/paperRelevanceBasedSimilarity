{
 "cells": [
  {
   "cell_type": "code",
   "execution_count": 1,
   "metadata": {
    "collapsed": false,
    "deletable": true,
    "editable": true
   },
   "outputs": [
    {
     "name": "stderr",
     "output_type": "stream",
     "text": [
      "Using TensorFlow backend.\n"
     ]
    }
   ],
   "source": [
    "import collections\n",
    "import h5py\n",
    "import keras.layers\n",
    "import keras.layers.advanced_activations\n",
    "import keras.layers.convolutional\n",
    "import keras.layers.core\n",
    "import keras.layers.pooling\n",
    "import keras.models\n",
    "import keras.utils.np_utils\n",
    "import numpy as np\n",
    "import os.path"
   ]
  },
  {
   "cell_type": "code",
   "execution_count": 2,
   "metadata": {
    "collapsed": true,
    "deletable": true,
    "editable": true
   },
   "outputs": [],
   "source": [
    "current_path = \"/home/vl1019/tetci17/experiments/deprecated/supervised\"\n",
    "test_path = os.path.join(current_path, \"memoized_features\", \"Q=08_test.mat\")\n",
    "hdf5_file = h5py.File(test_path)\n",
    "X = hdf5_file[\"/\"][\"X_features\"].value\n",
    "X = np.squeeze(X)"
   ]
  },
  {
   "cell_type": "code",
   "execution_count": 29,
   "metadata": {
    "collapsed": false,
    "deletable": true,
    "editable": true
   },
   "outputs": [
    {
     "name": "stdout",
     "output_type": "stream",
     "text": [
      "Training: 73.75 +/- 5.75543221661\n",
      "Test: 50.0 +/- 5.47722688092\n"
     ]
    }
   ],
   "source": [
    "y = np.concatenate([i*np.ones(10, dtype=int) for i in range(10)])\n",
    "folds = np.mod(np.arange(100), 5)\n",
    "n_filters = 32\n",
    "kernel_size = 1\n",
    "relu_alpha = 0.1\n",
    "\n",
    "\n",
    "input_shape = X.shape[1:]\n",
    "training_accuracies = []\n",
    "test_accuracies = []\n",
    "\n",
    "for fold_id in range(5):\n",
    "    X_test = X[folds==fold_id, :, :]\n",
    "    y_test = y[folds==fold_id]\n",
    "    X_training = X[folds!=fold_id, :, :]\n",
    "    y_training = y[folds!=fold_id]\n",
    "\n",
    "    X_training = np.log(1e-6 + np.maximum(X_training, 0))\n",
    "    X_test = np.log(1e-6 + np.maximum(X_test, 0))\n",
    "\n",
    "    model = keras.models.Sequential()\n",
    "    conv1 = keras.layers.convolutional.Conv1D(n_filters, kernel_size, input_shape=input_shape)\n",
    "    model.add(conv1)\n",
    "    relu1 = keras.layers.advanced_activations.LeakyReLU(alpha=relu_alpha)\n",
    "    model.add(relu1)\n",
    "    pool1 = keras.layers.pooling.MaxPooling1D(128 - kernel_size + 1)\n",
    "    model.add(pool1)\n",
    "    flatten = keras.layers.core.Flatten()\n",
    "    model.add(flatten)\n",
    "    dense1 = keras.layers.core.Dense(10)\n",
    "    model.add(dense1)\n",
    "    softmax = keras.layers.Activation(\"softmax\")\n",
    "    model.add(softmax)\n",
    "\n",
    "    model.compile(loss=\"categorical_crossentropy\", optimizer=\"adam\", metrics=[\"accuracy\"])\n",
    "\n",
    "    Y_training = keras.utils.np_utils.to_categorical(y_training)\n",
    "    Y_test = keras.utils.np_utils.to_categorical(y_test)\n",
    "    model.fit(X_training, Y_training, epochs=25, batch_size=10, verbose=False)\n",
    "    training_loss, training_accuracy = model.evaluate(X_training, Y_training, verbose=False)\n",
    "    test_loss, test_accuracy = model.evaluate(X_test, Y_test, verbose=False)\n",
    "    training_accuracies.append(training_accuracy)\n",
    "    test_accuracies.append(test_accuracy)\n",
    "\n",
    "mean_training_accuracy = np.mean(training_accuracies)\n",
    "std_training_accuracy = np.std(training_accuracies)\n",
    "mean_test_accuracy = np.mean(test_accuracies)\n",
    "std_test_accuracy = np.std(test_accuracies)\n",
    "print(\"Training: \" + str(100 * mean_training_accuracy) + \" +/- \" + str(100 * std_training_accuracy))\n",
    "print(\"Test: \" + str(100 * mean_test_accuracy) + \" +/- \" + str(100 * std_test_accuracy))"
   ]
  },
  {
   "cell_type": "code",
   "execution_count": 15,
   "metadata": {
    "collapsed": false
   },
   "outputs": [
    {
     "data": {
      "text/plain": [
       "2500.0"
      ]
     },
     "execution_count": 15,
     "metadata": {},
     "output_type": "execute_result"
    }
   ],
   "source": []
  },
  {
   "cell_type": "code",
   "execution_count": 30,
   "metadata": {
    "collapsed": false
   },
   "outputs": [
    {
     "name": "stdout",
     "output_type": "stream",
     "text": [
      "_________________________________________________________________\n",
      "Layer (type)                 Output Shape              Param #   \n",
      "=================================================================\n",
      "conv1d_67 (Conv1D)           (None, 128, 32)           43776     \n",
      "_________________________________________________________________\n",
      "leaky_re_lu_67 (LeakyReLU)   (None, 128, 32)           0         \n",
      "_________________________________________________________________\n",
      "max_pooling1d_56 (MaxPooling (None, 1, 32)             0         \n",
      "_________________________________________________________________\n",
      "flatten_66 (Flatten)         (None, 32)                0         \n",
      "_________________________________________________________________\n",
      "dense_66 (Dense)             (None, 10)                330       \n",
      "_________________________________________________________________\n",
      "activation_66 (Activation)   (None, 10)                0         \n",
      "=================================================================\n",
      "Total params: 44,106.0\n",
      "Trainable params: 44,106.0\n",
      "Non-trainable params: 0.0\n",
      "_________________________________________________________________\n"
     ]
    }
   ],
   "source": [
    "model.summary()"
   ]
  },
  {
   "cell_type": "code",
   "execution_count": null,
   "metadata": {
    "collapsed": true
   },
   "outputs": [],
   "source": []
  }
 ],
 "metadata": {
  "kernelspec": {
   "display_name": "Python 3",
   "language": "python",
   "name": "python3"
  },
  "language_info": {
   "codemirror_mode": {
    "name": "ipython",
    "version": 3
   },
   "file_extension": ".py",
   "mimetype": "text/x-python",
   "name": "python",
   "nbconvert_exporter": "python",
   "pygments_lexer": "ipython3",
   "version": "3.6.0"
  }
 },
 "nbformat": 4,
 "nbformat_minor": 2
}
