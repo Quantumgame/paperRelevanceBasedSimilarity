{
 "cells": [
  {
   "cell_type": "code",
   "execution_count": 1,
   "metadata": {
    "collapsed": true,
    "deletable": true,
    "editable": true
   },
   "outputs": [],
   "source": [
    "import collections\n",
    "import h5py\n",
    "import numpy as np\n",
    "import os.path\n",
    "import sklearn\n",
    "import sklearn.preprocessing\n",
    "import sklearn.svm"
   ]
  },
  {
   "cell_type": "code",
   "execution_count": 2,
   "metadata": {
    "collapsed": false,
    "deletable": true,
    "editable": true
   },
   "outputs": [],
   "source": [
    "current_path = \"/home/vl1019/tetci17/experiments/deprecated/supervised\"\n",
    "test_path = os.path.join(current_path, \"memoized_features\", \"Q=08_test.mat\")\n",
    "hdf5_file = h5py.File(test_path)\n",
    "X = hdf5_file[\"/\"][\"X_features\"].value\n",
    "X = np.squeeze(X)\n",
    "X = np.transpose(X, (1, 0, 2))"
   ]
  },
  {
   "cell_type": "code",
   "execution_count": 4,
   "metadata": {
    "collapsed": false
   },
   "outputs": [
    {
     "name": "stdout",
     "output_type": "stream",
     "text": [
      "10.0 +/- 0.0\n"
     ]
    }
   ],
   "source": [
    "y = np.concatenate([i*np.ones(10, dtype=int) for i in range(10)])\n",
    "folds = np.mod(np.arange(100), 5)\n",
    "integration = \"late\"\n",
    "compression = \"log\"\n",
    "\n",
    "y_predicted = []\n",
    "accuracies = []\n",
    "\n",
    "for fold_id in range(5):\n",
    "    X_test = X[:, folds==fold_id, :]\n",
    "    y_test = y[folds==fold_id]\n",
    "    X_training = X[:, folds!=fold_id, :]\n",
    "    y_training = y[folds!=fold_id]\n",
    "    \n",
    "    # Logarithmic compression\n",
    "    if compression == \"logmedian\":\n",
    "        X_training = np.maximum(X_training, 0)\n",
    "        X_test = np.maximum(X_test, 0)\n",
    "        medians = np.median(X_training, axis=(0, 1))[np.newaxis, np.newaxis, :]\n",
    "        X_training = np.log1p(1e2 * X_training / medians)\n",
    "        X_test = np.log1p(1e2 * X_test / medians)\n",
    "    if compression == \"log\":\n",
    "        X_training = np.log(1e-6 + np.maximum(X_training, 0))\n",
    "        X_test = np.log1p(1e-6 + np.maximum(X_test, 0))\n",
    "\n",
    "    # Early integration: summarize features\n",
    "    if integration == \"early\":\n",
    "        X_training = np.sum(X_training, 0)\n",
    "        X_test = np.sum(X_test, 0)\n",
    "    \n",
    "    # Late integration\n",
    "    if integration == \"late\":\n",
    "        y_training = np.reshape(np.tile(y_training, (128, 1)), (80*128, 1)).ravel()\n",
    "        X_training = np.reshape(X_training,\n",
    "            (X_training.shape[0]*X_training.shape[1], X_training.shape[2]))\n",
    "        X_test = np.reshape(X_test,\n",
    "            (X_test.shape[0]*X_test.shape[1], X_test.shape[2]))\n",
    "\n",
    "    # Standardize features\n",
    "    scaler = sklearn.preprocessing.StandardScaler().fit(X_training)\n",
    "    X_training = scaler.transform(X_training)\n",
    "    X_test = scaler.transform(X_test)\n",
    "\n",
    "    # Train linear SVM\n",
    "    clf = sklearn.svm.LinearSVC(C=1.0)\n",
    "    clf.fit(X_training, y_training)\n",
    "\n",
    "    # Predict and evaluate average miss rate\n",
    "    if integration == \"early\":\n",
    "        y_test_predicted = clf.predict(X_test)\n",
    "    if integration == \"late\":\n",
    "        vote_test = clf.predict(X_test)\n",
    "        vote_test = np.reshape(vote_test, (128, 20))\n",
    "        votes = [vote_test[:, n] for n in range(20)]\n",
    "        counters = map(collections.Counter, votes)\n",
    "        y_test_predicted = np.hstack(\n",
    "            [ counter.most_common(1)[0][0] for counter in counters ])\n",
    "\n",
    "    # Report accuracy\n",
    "    accuracy =\\\n",
    "        sklearn.metrics.accuracy_score(y_test_predicted, y_test)\n",
    "    accuracies.append(accuracy)\n",
    "    y_predicted.append(y_test_predicted)\n",
    "\n",
    "mean_accuracy = np.mean(accuracies)\n",
    "std_accuracy = np.std(accuracies)\n",
    "print(str(100 * mean_accuracy) + \" +/- \" + str(100 * std_accuracy))"
   ]
  },
  {
   "cell_type": "code",
   "execution_count": null,
   "metadata": {
    "collapsed": true
   },
   "outputs": [],
   "source": []
  }
 ],
 "metadata": {
  "kernelspec": {
   "display_name": "Python 3",
   "language": "python",
   "name": "python3"
  },
  "language_info": {
   "codemirror_mode": {
    "name": "ipython",
    "version": 3
   },
   "file_extension": ".py",
   "mimetype": "text/x-python",
   "name": "python",
   "nbconvert_exporter": "python",
   "pygments_lexer": "ipython3",
   "version": "3.6.0"
  }
 },
 "nbformat": 4,
 "nbformat_minor": 2
}
